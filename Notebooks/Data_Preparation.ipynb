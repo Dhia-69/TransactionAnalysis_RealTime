{
 "cells": [
  {
   "cell_type": "markdown",
   "id": "e3b89e92-1db4-43dd-888e-49998e8467db",
   "metadata": {},
   "source": [
    "# Exploration de dataset"
   ]
  },
  {
   "cell_type": "code",
   "execution_count": 3,
   "id": "484c66f2-d077-4a27-bbbe-26e2f44edcc7",
   "metadata": {},
   "outputs": [],
   "source": [
    "import pandas as pd\n",
    "df=pd.read_csv(\"transactions_1.csv\")"
   ]
  },
  {
   "cell_type": "code",
   "execution_count": 11,
   "id": "c102aec9-514d-4689-8887-afb34cabdafb",
   "metadata": {},
   "outputs": [
    {
     "data": {
      "text/html": [
       "<div>\n",
       "<style scoped>\n",
       "    .dataframe tbody tr th:only-of-type {\n",
       "        vertical-align: middle;\n",
       "    }\n",
       "\n",
       "    .dataframe tbody tr th {\n",
       "        vertical-align: top;\n",
       "    }\n",
       "\n",
       "    .dataframe thead th {\n",
       "        text-align: right;\n",
       "    }\n",
       "</style>\n",
       "<table border=\"1\" class=\"dataframe\">\n",
       "  <thead>\n",
       "    <tr style=\"text-align: right;\">\n",
       "      <th></th>\n",
       "      <th>Unnamed: 0</th>\n",
       "      <th>trans_date_trans_time</th>\n",
       "      <th>cc_num</th>\n",
       "      <th>merchant</th>\n",
       "      <th>category</th>\n",
       "      <th>amt</th>\n",
       "      <th>first</th>\n",
       "      <th>last</th>\n",
       "      <th>gender</th>\n",
       "      <th>street</th>\n",
       "      <th>...</th>\n",
       "      <th>lat</th>\n",
       "      <th>long</th>\n",
       "      <th>city_pop</th>\n",
       "      <th>job</th>\n",
       "      <th>dob</th>\n",
       "      <th>trans_num</th>\n",
       "      <th>unix_time</th>\n",
       "      <th>merch_lat</th>\n",
       "      <th>merch_long</th>\n",
       "      <th>is_fraud</th>\n",
       "    </tr>\n",
       "  </thead>\n",
       "  <tbody>\n",
       "    <tr>\n",
       "      <th>0</th>\n",
       "      <td>845717</td>\n",
       "      <td>2019-12-14 19:51:57</td>\n",
       "      <td>213156747557083</td>\n",
       "      <td>fraud_Gutmann McLaughlin and Wiza</td>\n",
       "      <td>home</td>\n",
       "      <td>79.45</td>\n",
       "      <td>Adam</td>\n",
       "      <td>Santos</td>\n",
       "      <td>M</td>\n",
       "      <td>725 Jo Trace Apt. 102</td>\n",
       "      <td>...</td>\n",
       "      <td>34.1556</td>\n",
       "      <td>-118.2322</td>\n",
       "      <td>172817</td>\n",
       "      <td>Advertising account planner</td>\n",
       "      <td>1982-07-30</td>\n",
       "      <td>7c84c214fc4083a31e60b410062db6a6</td>\n",
       "      <td>1355514717</td>\n",
       "      <td>34.410611</td>\n",
       "      <td>-118.001926</td>\n",
       "      <td>1</td>\n",
       "    </tr>\n",
       "    <tr>\n",
       "      <th>1</th>\n",
       "      <td>56861</td>\n",
       "      <td>2020-07-11 05:27:50</td>\n",
       "      <td>4481131401752</td>\n",
       "      <td>fraud_Pfeffer LLC</td>\n",
       "      <td>grocery_net</td>\n",
       "      <td>59.10</td>\n",
       "      <td>Frank</td>\n",
       "      <td>Foster</td>\n",
       "      <td>M</td>\n",
       "      <td>37910 Ward Lights</td>\n",
       "      <td>...</td>\n",
       "      <td>42.2848</td>\n",
       "      <td>-71.7205</td>\n",
       "      <td>35299</td>\n",
       "      <td>English as a second language teacher</td>\n",
       "      <td>1975-04-30</td>\n",
       "      <td>46decc0503eab463f10a7723b0aeb7df</td>\n",
       "      <td>1373520470</td>\n",
       "      <td>43.098728</td>\n",
       "      <td>-71.694259</td>\n",
       "      <td>1</td>\n",
       "    </tr>\n",
       "    <tr>\n",
       "      <th>2</th>\n",
       "      <td>516292</td>\n",
       "      <td>2020-12-22 19:00:05</td>\n",
       "      <td>213186334552049</td>\n",
       "      <td>fraud_Wintheiser Dietrich and Schimmel</td>\n",
       "      <td>misc_pos</td>\n",
       "      <td>2.33</td>\n",
       "      <td>Andrea</td>\n",
       "      <td>Perkins</td>\n",
       "      <td>F</td>\n",
       "      <td>37426 Olson Villages</td>\n",
       "      <td>...</td>\n",
       "      <td>41.8117</td>\n",
       "      <td>-79.2643</td>\n",
       "      <td>528</td>\n",
       "      <td>Chief Marketing Officer</td>\n",
       "      <td>1972-09-13</td>\n",
       "      <td>5912f519966bfe2fcc3c475863e3d167</td>\n",
       "      <td>1387738805</td>\n",
       "      <td>42.382939</td>\n",
       "      <td>-79.012416</td>\n",
       "      <td>0</td>\n",
       "    </tr>\n",
       "    <tr>\n",
       "      <th>3</th>\n",
       "      <td>524872</td>\n",
       "      <td>2019-08-14 07:38:52</td>\n",
       "      <td>4067137330196900</td>\n",
       "      <td>fraud_Bernhard Inc</td>\n",
       "      <td>gas_transport</td>\n",
       "      <td>34.19</td>\n",
       "      <td>Christina</td>\n",
       "      <td>Eaton</td>\n",
       "      <td>F</td>\n",
       "      <td>3256 Brooks Field</td>\n",
       "      <td>...</td>\n",
       "      <td>33.9315</td>\n",
       "      <td>-87.6194</td>\n",
       "      <td>1186</td>\n",
       "      <td>Politician's assistant</td>\n",
       "      <td>1986-11-12</td>\n",
       "      <td>8de346ae3de5c6d851050ad47cce2dee</td>\n",
       "      <td>1344929932</td>\n",
       "      <td>33.599369</td>\n",
       "      <td>-87.240597</td>\n",
       "      <td>1</td>\n",
       "    </tr>\n",
       "    <tr>\n",
       "      <th>4</th>\n",
       "      <td>1047572</td>\n",
       "      <td>2020-03-10 08:51:47</td>\n",
       "      <td>6517217825320610</td>\n",
       "      <td>fraud_Connelly Reichert and Fritsch</td>\n",
       "      <td>gas_transport</td>\n",
       "      <td>54.32</td>\n",
       "      <td>James</td>\n",
       "      <td>Reese</td>\n",
       "      <td>M</td>\n",
       "      <td>26975 Richardson Mills Apt. 402</td>\n",
       "      <td>...</td>\n",
       "      <td>31.6453</td>\n",
       "      <td>-90.1801</td>\n",
       "      <td>1196</td>\n",
       "      <td>Librarian_academic</td>\n",
       "      <td>1958-06-11</td>\n",
       "      <td>05275fc06273d00eb721adb412912b06</td>\n",
       "      <td>1362905507</td>\n",
       "      <td>32.147869</td>\n",
       "      <td>-90.232111</td>\n",
       "      <td>1</td>\n",
       "    </tr>\n",
       "  </tbody>\n",
       "</table>\n",
       "<p>5 rows × 23 columns</p>\n",
       "</div>"
      ],
      "text/plain": [
       "   Unnamed: 0 trans_date_trans_time            cc_num  \\\n",
       "0      845717   2019-12-14 19:51:57   213156747557083   \n",
       "1       56861   2020-07-11 05:27:50     4481131401752   \n",
       "2      516292   2020-12-22 19:00:05   213186334552049   \n",
       "3      524872   2019-08-14 07:38:52  4067137330196900   \n",
       "4     1047572   2020-03-10 08:51:47  6517217825320610   \n",
       "\n",
       "                                 merchant       category    amt      first  \\\n",
       "0       fraud_Gutmann McLaughlin and Wiza           home  79.45       Adam   \n",
       "1                       fraud_Pfeffer LLC    grocery_net  59.10      Frank   \n",
       "2  fraud_Wintheiser Dietrich and Schimmel       misc_pos   2.33     Andrea   \n",
       "3                      fraud_Bernhard Inc  gas_transport  34.19  Christina   \n",
       "4     fraud_Connelly Reichert and Fritsch  gas_transport  54.32      James   \n",
       "\n",
       "      last gender                           street  ...      lat      long  \\\n",
       "0   Santos      M            725 Jo Trace Apt. 102  ...  34.1556 -118.2322   \n",
       "1   Foster      M                37910 Ward Lights  ...  42.2848  -71.7205   \n",
       "2  Perkins      F             37426 Olson Villages  ...  41.8117  -79.2643   \n",
       "3    Eaton      F                3256 Brooks Field  ...  33.9315  -87.6194   \n",
       "4    Reese      M  26975 Richardson Mills Apt. 402  ...  31.6453  -90.1801   \n",
       "\n",
       "   city_pop                                   job         dob  \\\n",
       "0    172817           Advertising account planner  1982-07-30   \n",
       "1     35299  English as a second language teacher  1975-04-30   \n",
       "2       528               Chief Marketing Officer  1972-09-13   \n",
       "3      1186                Politician's assistant  1986-11-12   \n",
       "4      1196                    Librarian_academic  1958-06-11   \n",
       "\n",
       "                          trans_num   unix_time  merch_lat  merch_long  \\\n",
       "0  7c84c214fc4083a31e60b410062db6a6  1355514717  34.410611 -118.001926   \n",
       "1  46decc0503eab463f10a7723b0aeb7df  1373520470  43.098728  -71.694259   \n",
       "2  5912f519966bfe2fcc3c475863e3d167  1387738805  42.382939  -79.012416   \n",
       "3  8de346ae3de5c6d851050ad47cce2dee  1344929932  33.599369  -87.240597   \n",
       "4  05275fc06273d00eb721adb412912b06  1362905507  32.147869  -90.232111   \n",
       "\n",
       "   is_fraud  \n",
       "0         1  \n",
       "1         1  \n",
       "2         0  \n",
       "3         1  \n",
       "4         1  \n",
       "\n",
       "[5 rows x 23 columns]"
      ]
     },
     "execution_count": 11,
     "metadata": {},
     "output_type": "execute_result"
    }
   ],
   "source": [
    "df.head(5)"
   ]
  },
  {
   "cell_type": "code",
   "execution_count": 12,
   "id": "cad6ca20-720f-4178-9380-c4a485275671",
   "metadata": {},
   "outputs": [
    {
     "name": "stdout",
     "output_type": "stream",
     "text": [
      "<class 'pandas.core.frame.DataFrame'>\n",
      "RangeIndex: 1852394 entries, 0 to 1852393\n",
      "Data columns (total 23 columns):\n",
      " #   Column                 Dtype  \n",
      "---  ------                 -----  \n",
      " 0   Unnamed: 0             int64  \n",
      " 1   trans_date_trans_time  object \n",
      " 2   cc_num                 int64  \n",
      " 3   merchant               object \n",
      " 4   category               object \n",
      " 5   amt                    float64\n",
      " 6   first                  object \n",
      " 7   last                   object \n",
      " 8   gender                 object \n",
      " 9   street                 object \n",
      " 10  city                   object \n",
      " 11  state                  object \n",
      " 12  zip                    int64  \n",
      " 13  lat                    float64\n",
      " 14  long                   float64\n",
      " 15  city_pop               int64  \n",
      " 16  job                    object \n",
      " 17  dob                    object \n",
      " 18  trans_num              object \n",
      " 19  unix_time              int64  \n",
      " 20  merch_lat              float64\n",
      " 21  merch_long             float64\n",
      " 22  is_fraud               int64  \n",
      "dtypes: float64(5), int64(6), object(12)\n",
      "memory usage: 325.1+ MB\n"
     ]
    }
   ],
   "source": [
    "df.info()"
   ]
  },
  {
   "cell_type": "code",
   "execution_count": 13,
   "id": "fb2cee48-5b1f-413a-b522-75d83eeb00f6",
   "metadata": {},
   "outputs": [
    {
     "data": {
      "text/plain": [
       "is_fraud\n",
       "0    1072536\n",
       "1     779858\n",
       "Name: count, dtype: int64"
      ]
     },
     "execution_count": 13,
     "metadata": {},
     "output_type": "execute_result"
    }
   ],
   "source": [
    "df[\"is_fraud\"].value_counts()"
   ]
  },
  {
   "cell_type": "markdown",
   "id": "5248a4e7-fac4-4af2-b4db-9936430f963e",
   "metadata": {},
   "source": [
    "# Division de données en chunks"
   ]
  },
  {
   "cell_type": "code",
   "execution_count": 16,
   "id": "37adc2b1-0e50-465c-96f5-422495b4e703",
   "metadata": {},
   "outputs": [
    {
     "name": "stdout",
     "output_type": "stream",
     "text": [
      "Chunk 1 sauvegardé : csv_batches/part_1.csv\n",
      "Chunk 2 sauvegardé : csv_batches/part_2.csv\n",
      "Chunk 3 sauvegardé : csv_batches/part_3.csv\n",
      "Chunk 4 sauvegardé : csv_batches/part_4.csv\n",
      "Chunk 5 sauvegardé : csv_batches/part_5.csv\n",
      "Chunk 6 sauvegardé : csv_batches/part_6.csv\n",
      "Chunk 7 sauvegardé : csv_batches/part_7.csv\n",
      "Chunk 8 sauvegardé : csv_batches/part_8.csv\n",
      "Chunk 9 sauvegardé : csv_batches/part_9.csv\n",
      "Chunk 10 sauvegardé : csv_batches/part_10.csv\n",
      "Chunk 11 sauvegardé : csv_batches/part_11.csv\n"
     ]
    }
   ],
   "source": [
    "import os\n",
    "import pandas as pd\n",
    "\n",
    "def split_csv_by_parts(input_file, output_dir, num_parts):\n",
    "    \"\"\"\n",
    "    Divise un fichier CSV en un nombre spécifié de fichiers.\n",
    "\n",
    "    :param input_file: Chemin complet vers le fichier CSV source.\n",
    "    :param output_dir: Répertoire où sauvegarder les morceaux.\n",
    "    :param num_parts: Nombre de morceaux souhaités.\n",
    "    \"\"\"\n",
    "    os.makedirs(output_dir, exist_ok=True)\n",
    "\n",
    "    # Compter le nombre total de lignes\n",
    "    total_rows = sum(1 for _ in open(input_file)) - 1  # Exclure l'en-tête\n",
    "\n",
    "    # Calculer la taille de chaque chunk\n",
    "    chunk_size = total_rows // num_parts\n",
    "\n",
    "    # Lire le fichier par chunks et écrire les morceaux\n",
    "    for i, chunk in enumerate(pd.read_csv(input_file, chunksize=chunk_size)):\n",
    "        output_file = os.path.join(output_dir, f\"part_{i + 1}.csv\")\n",
    "        chunk.to_csv(output_file, index=False)\n",
    "        print(f\"Chunk {i + 1} sauvegardé : {output_file}\")\n",
    "\n",
    "# Exemple d'utilisation\n",
    "input_csv = \"transactions_1.csv\"\n",
    "output_directory = \"csv_batches\"\n",
    "num_splits = 10  # Nombre de fichiers souhaités\n",
    "\n",
    "split_csv_by_parts(input_csv, output_directory, num_splits)"
   ]
  },
  {
   "cell_type": "markdown",
   "id": "4d6e9333-2489-4922-939c-af9dd4c6b135",
   "metadata": {},
   "source": [
    "# Envoie De chunks vers répertoire \"/home/master/kafka_ingestion/\""
   ]
  },
  {
   "cell_type": "code",
   "execution_count": 17,
   "id": "cc24892f-f6ac-485e-b5f5-60c91254f9c8",
   "metadata": {},
   "outputs": [
    {
     "name": "stdout",
     "output_type": "stream",
     "text": [
      "Appuyez sur Entrée pour envoyer chaque fichier un par un.\n"
     ]
    },
    {
     "name": "stdin",
     "output_type": "stream",
     "text": [
      "Prêt à envoyer part_1.csv? Appuyez sur Entrée pour continuer... \n"
     ]
    },
    {
     "name": "stdout",
     "output_type": "stream",
     "text": [
      "Fichier part_1.csv envoyé vers /home/master/kafka_ingestion/.\n"
     ]
    },
    {
     "name": "stdin",
     "output_type": "stream",
     "text": [
      "Prêt à envoyer part_10.csv? Appuyez sur Entrée pour continuer... \n"
     ]
    },
    {
     "name": "stdout",
     "output_type": "stream",
     "text": [
      "Fichier part_10.csv envoyé vers /home/master/kafka_ingestion/.\n"
     ]
    },
    {
     "name": "stdin",
     "output_type": "stream",
     "text": [
      "Prêt à envoyer part_11.csv? Appuyez sur Entrée pour continuer... \n"
     ]
    },
    {
     "name": "stdout",
     "output_type": "stream",
     "text": [
      "Fichier part_11.csv envoyé vers /home/master/kafka_ingestion/.\n"
     ]
    },
    {
     "name": "stdin",
     "output_type": "stream",
     "text": [
      "Prêt à envoyer part_2.csv? Appuyez sur Entrée pour continuer... \n"
     ]
    },
    {
     "name": "stdout",
     "output_type": "stream",
     "text": [
      "Fichier part_2.csv envoyé vers /home/master/kafka_ingestion/.\n"
     ]
    },
    {
     "name": "stdin",
     "output_type": "stream",
     "text": [
      "Prêt à envoyer part_3.csv? Appuyez sur Entrée pour continuer... \n"
     ]
    },
    {
     "name": "stdout",
     "output_type": "stream",
     "text": [
      "Fichier part_3.csv envoyé vers /home/master/kafka_ingestion/.\n"
     ]
    },
    {
     "name": "stdin",
     "output_type": "stream",
     "text": [
      "Prêt à envoyer part_4.csv? Appuyez sur Entrée pour continuer... \n"
     ]
    },
    {
     "name": "stdout",
     "output_type": "stream",
     "text": [
      "Fichier part_4.csv envoyé vers /home/master/kafka_ingestion/.\n"
     ]
    },
    {
     "name": "stdin",
     "output_type": "stream",
     "text": [
      "Prêt à envoyer part_5.csv? Appuyez sur Entrée pour continuer... \n"
     ]
    },
    {
     "name": "stdout",
     "output_type": "stream",
     "text": [
      "Fichier part_5.csv envoyé vers /home/master/kafka_ingestion/.\n"
     ]
    },
    {
     "name": "stdin",
     "output_type": "stream",
     "text": [
      "Prêt à envoyer part_6.csv? Appuyez sur Entrée pour continuer... \n"
     ]
    },
    {
     "name": "stdout",
     "output_type": "stream",
     "text": [
      "Fichier part_6.csv envoyé vers /home/master/kafka_ingestion/.\n"
     ]
    },
    {
     "name": "stdin",
     "output_type": "stream",
     "text": [
      "Prêt à envoyer part_7.csv? Appuyez sur Entrée pour continuer... \n"
     ]
    },
    {
     "name": "stdout",
     "output_type": "stream",
     "text": [
      "Fichier part_7.csv envoyé vers /home/master/kafka_ingestion/.\n"
     ]
    },
    {
     "name": "stdin",
     "output_type": "stream",
     "text": [
      "Prêt à envoyer part_8.csv? Appuyez sur Entrée pour continuer... \n"
     ]
    },
    {
     "name": "stdout",
     "output_type": "stream",
     "text": [
      "Fichier part_8.csv envoyé vers /home/master/kafka_ingestion/.\n"
     ]
    },
    {
     "name": "stdin",
     "output_type": "stream",
     "text": [
      "Prêt à envoyer part_9.csv? Appuyez sur Entrée pour continuer... \n"
     ]
    },
    {
     "name": "stdout",
     "output_type": "stream",
     "text": [
      "Fichier part_9.csv envoyé vers /home/master/kafka_ingestion/.\n",
      "Tous les fichiers ont été envoyés.\n"
     ]
    }
   ],
   "source": [
    "import os\n",
    "import shutil\n",
    "\n",
    "# Chemin des fichiers CSV à déplacer\n",
    "source_directory = \"/home/master/csv_batches/\"\n",
    "destination_directory = \"/home/master/kafka_ingestion/\"\n",
    "\n",
    "# Liste des fichiers dans le répertoire source\n",
    "files = sorted([f for f in os.listdir(source_directory) if f.endswith(\".csv\")])\n",
    "\n",
    "# Vérifier si le répertoire de destination existe\n",
    "if not os.path.exists(destination_directory):\n",
    "    os.makedirs(destination_directory)\n",
    "\n",
    "print(\"Appuyez sur Entrée pour envoyer chaque fichier un par un.\")\n",
    "\n",
    "for file in files:\n",
    "    # Chemin complet source et destination\n",
    "    source_path = os.path.join(source_directory, file)\n",
    "    destination_path = os.path.join(destination_directory, file)\n",
    "    \n",
    "    # Attendre l'entrée de l'utilisateur\n",
    "    input(f\"Prêt à envoyer {file}? Appuyez sur Entrée pour continuer...\")\n",
    "    \n",
    "    # Déplacer le fichier\n",
    "    shutil.move(source_path, destination_path)\n",
    "    print(f\"Fichier {file} envoyé vers {destination_directory}.\")\n",
    "    \n",
    "print(\"Tous les fichiers ont été envoyés.\")\n"
   ]
  },
  {
   "cell_type": "code",
   "execution_count": null,
   "id": "b5ef459d-2243-4d32-af60-0fe6f2f1adb9",
   "metadata": {},
   "outputs": [],
   "source": []
  }
 ],
 "metadata": {
  "kernelspec": {
   "display_name": "Python 3 (ipykernel)",
   "language": "python",
   "name": "python3"
  },
  "language_info": {
   "codemirror_mode": {
    "name": "ipython",
    "version": 3
   },
   "file_extension": ".py",
   "mimetype": "text/x-python",
   "name": "python",
   "nbconvert_exporter": "python",
   "pygments_lexer": "ipython3",
   "version": "3.11.6"
  }
 },
 "nbformat": 4,
 "nbformat_minor": 5
}
